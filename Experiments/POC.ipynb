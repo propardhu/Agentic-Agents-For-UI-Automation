{
 "cells": [
  {
   "cell_type": "code",
   "execution_count": 20,
   "id": "3b365fa7-62ae-4619-bb18-adb47da7c4fe",
   "metadata": {
    "execution": {
     "iopub.execute_input": "2025-04-07T20:22:47.350822Z",
     "iopub.status.busy": "2025-04-07T20:22:47.350467Z",
     "iopub.status.idle": "2025-04-07T20:22:47.354081Z",
     "shell.execute_reply": "2025-04-07T20:22:47.353336Z",
     "shell.execute_reply.started": "2025-04-07T20:22:47.350800Z"
    }
   },
   "outputs": [],
   "source": [
    "import os\n",
    "os.environ[\"OPENAI_API_KEY\"] = \"Place your key here\""
   ]
  },
  {
   "cell_type": "code",
   "execution_count": 26,
   "id": "1c95f0c1-18b1-4519-90c3-a843f0e97744",
   "metadata": {
    "execution": {
     "iopub.execute_input": "2025-04-07T20:23:17.007378Z",
     "iopub.status.busy": "2025-04-07T20:23:17.007015Z",
     "iopub.status.idle": "2025-04-07T20:23:17.079031Z",
     "shell.execute_reply": "2025-04-07T20:23:17.078647Z",
     "shell.execute_reply.started": "2025-04-07T20:23:17.007354Z"
    }
   },
   "outputs": [],
   "source": [
    "# 📦 Imports\n",
    "import os\n",
    "import json\n",
    "import re\n",
    "import time\n",
    "import nest_asyncio\n",
    "from langchain.prompts import PromptTemplate\n",
    "from langchain.chains import LLMChain\n",
    "from langchain_community.chat_models import ChatOpenAI\n",
    "from playwright.sync_api import sync_playwright\n",
    "\n",
    "# ✅ Required for Playwright in Jupyter\n",
    "nest_asyncio.apply()\n",
    "\n",
    "# 🔑 Set your OpenAI API Key\n",
    "os.environ[\"OPENAI_API_KEY\"] = \"Place your key here\"\n",
    "\n",
    "# 🧠 LLM setup\n",
    "llm = ChatOpenAI(model=\"gpt-3.5-turbo\", temperature=0)\n",
    "\n",
    "# 🧠 Prompt template for MCP-style JSON actions\n",
    "mcp_prompt = PromptTemplate.from_template(\"\"\"\n",
    "You're a browser automation assistant. Convert the following task into a **pure JSON array** of Playwright MCP `actions`.\n",
    "\n",
    "TASK: {task}\n",
    "\n",
    "RESPONSE FORMAT (must match):\n",
    "[\n",
    "  {{ \"type\": \"goto\", \"url\": \"...\" }},\n",
    "  {{ \"type\": \"wait\", \"time\": ... }},\n",
    "  ...\n",
    "]\n",
    "Return only the JSON. No markdown. No explanation.\n",
    "\"\"\")\n",
    "\n",
    "mcp_chain = LLMChain(llm=llm, prompt=mcp_prompt)"
   ]
  },
  {
   "cell_type": "code",
   "execution_count": 28,
   "id": "32811257-5073-4bba-b20e-f5d07b6f8baf",
   "metadata": {
    "execution": {
     "iopub.execute_input": "2025-04-07T20:23:18.026449Z",
     "iopub.status.busy": "2025-04-07T20:23:18.025793Z",
     "iopub.status.idle": "2025-04-07T20:23:19.524279Z",
     "shell.execute_reply": "2025-04-07T20:23:19.523662Z",
     "shell.execute_reply.started": "2025-04-07T20:23:18.026423Z"
    }
   },
   "outputs": [],
   "source": [
    "# 💬 Example user task\n",
    "task_prompt = (\n",
    "    \"Go to Partha Sai Guttikonda's portfolio page at https://guttikondaparthasai.info/, \"\n",
    "    \"wait for 5 seconds, and take a full-page screenshot named 'partha_screenshot.png'.\"\n",
    ")\n",
    "\n",
    "generated = mcp_chain.run(task=task_prompt)\n",
    "\n",
    "# 🧼 Parse JSON from LLM output\n",
    "match = re.search(r\"\\[\\s*{.*?}\\s*\\]\", generated, re.DOTALL)\n",
    "if match:\n",
    "    cleaned_json = match.group(0)\n",
    "    try:\n",
    "        actions = json.loads(cleaned_json)\n",
    "    except json.JSONDecodeError as e:\n",
    "        print(\"JSON Decode Error:\", e)\n",
    "        print(\"Original Output:\\n\", generated)\n",
    "        raise\n",
    "else:\n",
    "    print(\"❌ Failed to parse JSON. Full LLM output:\\n\", generated)\n",
    "    raise ValueError(\"No valid JSON array found.\")"
   ]
  },
  {
   "cell_type": "code",
   "execution_count": 30,
   "id": "ff75bd8e-9de4-49cd-8103-ceb0ca530126",
   "metadata": {
    "execution": {
     "iopub.execute_input": "2025-04-07T20:23:23.981825Z",
     "iopub.status.busy": "2025-04-07T20:23:23.981450Z",
     "iopub.status.idle": "2025-04-07T20:23:24.050272Z",
     "shell.execute_reply": "2025-04-07T20:23:24.049012Z",
     "shell.execute_reply.started": "2025-04-07T20:23:23.981803Z"
    }
   },
   "outputs": [
    {
     "ename": "Error",
     "evalue": "It looks like you are using Playwright Sync API inside the asyncio loop.\nPlease use the Async API instead.",
     "output_type": "error",
     "traceback": [
      "\u001b[0;31m---------------------------------------------------------------------------\u001b[0m",
      "\u001b[0;31mError\u001b[0m                                     Traceback (most recent call last)",
      "Cell \u001b[0;32mIn[30], line 48\u001b[0m\n\u001b[1;32m     45\u001b[0m     p\u001b[38;5;241m.\u001b[39mstop()\n\u001b[1;32m     47\u001b[0m \u001b[38;5;66;03m# 🏃‍♂️ Run the Executor\u001b[39;00m\n\u001b[0;32m---> 48\u001b[0m execute_actions_notebook(actions)\n",
      "Cell \u001b[0;32mIn[30], line 3\u001b[0m, in \u001b[0;36mexecute_actions_notebook\u001b[0;34m(actions)\u001b[0m\n\u001b[1;32m      2\u001b[0m \u001b[38;5;28;01mdef\u001b[39;00m \u001b[38;5;21mexecute_actions_notebook\u001b[39m(actions):\n\u001b[0;32m----> 3\u001b[0m     p \u001b[38;5;241m=\u001b[39m sync_playwright()\u001b[38;5;241m.\u001b[39mstart()\n\u001b[1;32m      4\u001b[0m     browser \u001b[38;5;241m=\u001b[39m p\u001b[38;5;241m.\u001b[39mchromium\u001b[38;5;241m.\u001b[39mlaunch(headless\u001b[38;5;241m=\u001b[39m\u001b[38;5;28;01mTrue\u001b[39;00m)\n\u001b[1;32m      5\u001b[0m     page \u001b[38;5;241m=\u001b[39m browser\u001b[38;5;241m.\u001b[39mnew_page()\n",
      "File \u001b[0;32m/opt/anaconda3/lib/python3.12/site-packages/playwright/sync_api/_context_manager.py:84\u001b[0m, in \u001b[0;36mPlaywrightContextManager.start\u001b[0;34m(self)\u001b[0m\n\u001b[1;32m     83\u001b[0m \u001b[38;5;28;01mdef\u001b[39;00m \u001b[38;5;21mstart\u001b[39m(\u001b[38;5;28mself\u001b[39m) \u001b[38;5;241m-\u001b[39m\u001b[38;5;241m>\u001b[39m SyncPlaywright:\n\u001b[0;32m---> 84\u001b[0m     \u001b[38;5;28;01mreturn\u001b[39;00m \u001b[38;5;28mself\u001b[39m\u001b[38;5;241m.\u001b[39m\u001b[38;5;21m__enter__\u001b[39m()\n",
      "File \u001b[0;32m/opt/anaconda3/lib/python3.12/site-packages/playwright/sync_api/_context_manager.py:47\u001b[0m, in \u001b[0;36mPlaywrightContextManager.__enter__\u001b[0;34m(self)\u001b[0m\n\u001b[1;32m     45\u001b[0m             \u001b[38;5;28mself\u001b[39m\u001b[38;5;241m.\u001b[39m_own_loop \u001b[38;5;241m=\u001b[39m \u001b[38;5;28;01mTrue\u001b[39;00m\n\u001b[1;32m     46\u001b[0m         \u001b[38;5;28;01mif\u001b[39;00m \u001b[38;5;28mself\u001b[39m\u001b[38;5;241m.\u001b[39m_loop\u001b[38;5;241m.\u001b[39mis_running():\n\u001b[0;32m---> 47\u001b[0m             \u001b[38;5;28;01mraise\u001b[39;00m Error(\n\u001b[1;32m     48\u001b[0m \u001b[38;5;250m                \u001b[39m\u001b[38;5;124;03m\"\"\"It looks like you are using Playwright Sync API inside the asyncio loop.\u001b[39;00m\n\u001b[1;32m     49\u001b[0m \u001b[38;5;124;03mPlease use the Async API instead.\"\"\"\u001b[39;00m\n\u001b[1;32m     50\u001b[0m             )\n\u001b[1;32m     52\u001b[0m         \u001b[38;5;66;03m# Create a new fiber for the protocol dispatcher. It will be pumping events\u001b[39;00m\n\u001b[1;32m     53\u001b[0m         \u001b[38;5;66;03m# until the end of times. We will pass control to that fiber every time we\u001b[39;00m\n\u001b[1;32m     54\u001b[0m         \u001b[38;5;66;03m# block while waiting for a response.\u001b[39;00m\n\u001b[1;32m     55\u001b[0m         \u001b[38;5;28;01mdef\u001b[39;00m \u001b[38;5;21mgreenlet_main\u001b[39m() \u001b[38;5;241m-\u001b[39m\u001b[38;5;241m>\u001b[39m \u001b[38;5;28;01mNone\u001b[39;00m:\n",
      "\u001b[0;31mError\u001b[0m: It looks like you are using Playwright Sync API inside the asyncio loop.\nPlease use the Async API instead."
     ]
    }
   ],
   "source": [
    "# 🤖 Playwright Executor for Jupyter\n",
    "def execute_actions_notebook(actions):\n",
    "    p = sync_playwright().start()\n",
    "    browser = p.chromium.launch(headless=True)\n",
    "    page = browser.new_page()\n",
    "\n",
    "    for action in actions:\n",
    "        action_type = action.get(\"type\")\n",
    "        try:\n",
    "            if action_type == \"goto\":\n",
    "                print(f\"🔗 Navigating to {action['url']}\")\n",
    "                page.goto(action[\"url\"])\n",
    "\n",
    "            elif action_type == \"wait\":\n",
    "                print(f\"⏱ Waiting for {action['time']} seconds\")\n",
    "                time.sleep(action[\"time\"])\n",
    "\n",
    "            elif action_type == \"click\":\n",
    "                print(f\"🖱 Clicking element {action['selector']}\")\n",
    "                page.click(action[\"selector\"])\n",
    "\n",
    "            elif action_type == \"fill\":\n",
    "                print(f\"📝 Filling {action['selector']} with '{action['value']}'\")\n",
    "                page.fill(action[\"selector\"], action[\"value\"])\n",
    "\n",
    "            elif action_type == \"type\":\n",
    "                print(f\"⌨️ Typing in {action['selector']} with delay {action.get('delay', 50)}ms\")\n",
    "                page.type(action[\"selector\"], action[\"value\"], delay=action.get(\"delay\", 50))\n",
    "\n",
    "            elif action_type == \"select\":\n",
    "                print(f\"🔽 Selecting {action['value']} in {action['selector']}\")\n",
    "                page.select_option(action[\"selector\"], action[\"value\"])\n",
    "\n",
    "            elif action_type == \"screenshot\":\n",
    "                print(f\"📸 Taking screenshot and saving to {action['path']}\")\n",
    "                page.screenshot(path=action[\"path\"], full_page=action.get(\"fullPage\", False))\n",
    "\n",
    "            else:\n",
    "                print(f\"⚠️ Unsupported action type: {action_type}\")\n",
    "\n",
    "        except Exception as e:\n",
    "            print(f\"❌ Error while performing {action_type}: {e}\")\n",
    "\n",
    "    browser.close()\n",
    "    p.stop()\n",
    "\n",
    "# 🏃‍♂️ Run the Executor\n",
    "execute_actions_notebook(actions)"
   ]
  },
  {
   "cell_type": "code",
   "execution_count": null,
   "id": "bb897b6b-b48b-4b1a-8878-e0b60b25b2a6",
   "metadata": {},
   "outputs": [],
   "source": []
  }
 ],
 "metadata": {
  "kernelspec": {
   "display_name": "Python [conda env:base] *",
   "language": "python",
   "name": "conda-base-py"
  },
  "language_info": {
   "codemirror_mode": {
    "name": "ipython",
    "version": 3
   },
   "file_extension": ".py",
   "mimetype": "text/x-python",
   "name": "python",
   "nbconvert_exporter": "python",
   "pygments_lexer": "ipython3",
   "version": "3.12.7"
  }
 },
 "nbformat": 4,
 "nbformat_minor": 5
}
